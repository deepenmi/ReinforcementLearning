{
  "nbformat": 4,
  "nbformat_minor": 0,
  "metadata": {
    "colab": {
      "name": "PyTorchBasics.ipynb",
      "provenance": [],
      "authorship_tag": "ABX9TyOj8klkouSqJ5v7864PWVnH",
      "include_colab_link": true
    },
    "kernelspec": {
      "name": "python3",
      "display_name": "Python 3"
    },
    "accelerator": "GPU"
  },
  "cells": [
    {
      "cell_type": "markdown",
      "metadata": {
        "id": "view-in-github",
        "colab_type": "text"
      },
      "source": [
        "<a href=\"https://colab.research.google.com/github/deepenmi/ReinforcementLearning/blob/master/PyTorchBasics.ipynb\" target=\"_parent\"><img src=\"https://colab.research.google.com/assets/colab-badge.svg\" alt=\"Open In Colab\"/></a>"
      ]
    },
    {
      "cell_type": "markdown",
      "metadata": {
        "id": "-TkW9QrEmiwj",
        "colab_type": "text"
      },
      "source": [
        "# Tensor\n",
        "is a multi-dimensional matrix of a single-data type.\n",
        "\n",
        "*   Scaler: single value\n",
        "*   Vector: List of values\n",
        "*   Matrix: 2-d array\n",
        "*   Tensor: n-d array\n",
        "\n"
      ]
    },
    {
      "cell_type": "code",
      "metadata": {
        "id": "ZK5ZnruIm7Vw",
        "colab_type": "code",
        "colab": {}
      },
      "source": [
        "import torch\n",
        "import torch.nn as nn"
      ],
      "execution_count": 0,
      "outputs": []
    },
    {
      "cell_type": "code",
      "metadata": {
        "id": "OGCHmPwhm-MS",
        "colab_type": "code",
        "colab": {
          "base_uri": "https://localhost:8080/",
          "height": 105
        },
        "outputId": "61c82771-6d2a-4494-ba58-532a7a521b24"
      },
      "source": [
        "a= torch.rand(2)\n",
        "b= torch.zeros(4,4)\n",
        "c=torch.ones(4,2,4,5,4)\n",
        "\n",
        "print(a)\n",
        "print(b)\n",
        "\n"
      ],
      "execution_count": 2,
      "outputs": [
        {
          "output_type": "stream",
          "text": [
            "tensor([0.4801, 0.4452])\n",
            "tensor([[0., 0., 0., 0.],\n",
            "        [0., 0., 0., 0.],\n",
            "        [0., 0., 0., 0.],\n",
            "        [0., 0., 0., 0.]])\n"
          ],
          "name": "stdout"
        }
      ]
    },
    {
      "cell_type": "markdown",
      "metadata": {
        "id": "EQ6izfCcnWwX",
        "colab_type": "text"
      },
      "source": [
        "# Enable GPu usuage with PyTorch\n"
      ]
    },
    {
      "cell_type": "code",
      "metadata": {
        "id": "KdHcufcKnSCX",
        "colab_type": "code",
        "colab": {
          "base_uri": "https://localhost:8080/",
          "height": 34
        },
        "outputId": "3c07ee49-4487-4913-d655-133023fbcd46"
      },
      "source": [
        "if torch.cuda.is_available():\n",
        "  device = torch.device(\"cuda\")\n",
        "  print(\"GPU available\")\n",
        "else:\n",
        "  device = torch.device(\"cpu\")\n",
        "  print(\"GPU not available\")\n"
      ],
      "execution_count": 3,
      "outputs": [
        {
          "output_type": "stream",
          "text": [
            "GPU available\n"
          ],
          "name": "stdout"
        }
      ]
    },
    {
      "cell_type": "code",
      "metadata": {
        "id": "jIKiYR6_n5np",
        "colab_type": "code",
        "colab": {
          "base_uri": "https://localhost:8080/",
          "height": 34
        },
        "outputId": "389121ec-908b-4d98-db1d-f8b2b62ae43e"
      },
      "source": [
        "x = torch.rand(5,5)\n",
        "x = x.to(device)\n",
        "print(\"Is tensor x on the GPU: {}\".format(x.is_cuda))"
      ],
      "execution_count": 4,
      "outputs": [
        {
          "output_type": "stream",
          "text": [
            "Is tensor x on the GPU: True\n"
          ],
          "name": "stdout"
        }
      ]
    },
    {
      "cell_type": "code",
      "metadata": {
        "id": "nJtIg1xMoXym",
        "colab_type": "code",
        "colab": {}
      },
      "source": [
        "class SampleNeuralNetwork(nn.Module):\n",
        "  def __init__(self):\n",
        "    super(SampleNeuralNetwork, self).__init__()\n",
        "    self.dense_layer_1 = nn.Linear(4, 32)\n",
        "    self.dense_layer_2 = nn.Linear(32, 2)\n",
        "\n",
        "  def forward(self,x):\n",
        "    x = F.relu(self.dense_layer1(x))\n",
        "    return F.relu(self.dense_layer_2(x))\n"
      ],
      "execution_count": 0,
      "outputs": []
    },
    {
      "cell_type": "code",
      "metadata": {
        "id": "FKLKEEnRpC03",
        "colab_type": "code",
        "colab": {
          "base_uri": "https://localhost:8080/",
          "height": 34
        },
        "outputId": "01c51334-b068-4c0b-f021-1967d7776396"
      },
      "source": [
        "neuralNet = SampleNeuralNetwork().to(device)\n",
        "\n",
        "print(\"is neural net on GPU: {}\".format(next(neuralNet.parameters()).is_cuda))"
      ],
      "execution_count": 6,
      "outputs": [
        {
          "output_type": "stream",
          "text": [
            "is neural net on GPU: True\n"
          ],
          "name": "stdout"
        }
      ]
    },
    {
      "cell_type": "markdown",
      "metadata": {
        "id": "hPRFuYeOp5cX",
        "colab_type": "text"
      },
      "source": [
        "# PyTorch Features\n",
        "\n",
        "\n",
        "*   Tensor operations on GPUs\n",
        "*   Neural networks: torch.nn\n",
        "*   Autograd\n",
        "*   Loss and optimizer functions\n",
        "*   A hybrid frontend\n",
        "\n"
      ]
    },
    {
      "cell_type": "code",
      "metadata": {
        "id": "scmxodD7qLin",
        "colab_type": "code",
        "colab": {}
      },
      "source": [
        ""
      ],
      "execution_count": 0,
      "outputs": []
    },
    {
      "cell_type": "code",
      "metadata": {
        "id": "x3B_3vK9pmvV",
        "colab_type": "code",
        "colab": {}
      },
      "source": [
        ""
      ],
      "execution_count": 0,
      "outputs": []
    },
    {
      "cell_type": "code",
      "metadata": {
        "id": "d7y7puifph9f",
        "colab_type": "code",
        "colab": {}
      },
      "source": [
        ""
      ],
      "execution_count": 0,
      "outputs": []
    },
    {
      "cell_type": "code",
      "metadata": {
        "id": "DsWbdHRankLH",
        "colab_type": "code",
        "colab": {}
      },
      "source": [
        ""
      ],
      "execution_count": 0,
      "outputs": []
    }
  ]
}